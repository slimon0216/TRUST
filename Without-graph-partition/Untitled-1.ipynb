{
 "cells": [
  {
   "cell_type": "code",
   "execution_count": 1,
   "metadata": {},
   "outputs": [],
   "source": [
    "import matplotlib.pyplot as plt\n",
    "import numpy as np\n",
    "import pandas as pd\n"
   ]
  },
  {
   "cell_type": "code",
   "execution_count": 2,
   "metadata": {},
   "outputs": [
    {
     "name": "stdout",
     "output_type": "stream",
     "text": [
      "97.38\n"
     ]
    },
    {
     "data": {
      "text/html": [
       "<div>\n",
       "<style scoped>\n",
       "    .dataframe tbody tr th:only-of-type {\n",
       "        vertical-align: middle;\n",
       "    }\n",
       "\n",
       "    .dataframe tbody tr th {\n",
       "        vertical-align: top;\n",
       "    }\n",
       "\n",
       "    .dataframe thead th {\n",
       "        text-align: right;\n",
       "    }\n",
       "</style>\n",
       "<table border=\"1\" class=\"dataframe\">\n",
       "  <thead>\n",
       "    <tr style=\"text-align: right;\">\n",
       "      <th></th>\n",
       "      <th>thread_id</th>\n",
       "      <th>start_time</th>\n",
       "      <th>end_time</th>\n",
       "      <th>clock_time</th>\n",
       "      <th>active_time</th>\n",
       "    </tr>\n",
       "  </thead>\n",
       "  <tbody>\n",
       "    <tr>\n",
       "      <th>0</th>\n",
       "      <td>0</td>\n",
       "      <td>3523971475015</td>\n",
       "      <td>3524161749754</td>\n",
       "      <td>190274739</td>\n",
       "      <td>181296552</td>\n",
       "    </tr>\n",
       "    <tr>\n",
       "      <th>1</th>\n",
       "      <td>1</td>\n",
       "      <td>3523971475015</td>\n",
       "      <td>3524161749754</td>\n",
       "      <td>190274739</td>\n",
       "      <td>181296552</td>\n",
       "    </tr>\n",
       "    <tr>\n",
       "      <th>2</th>\n",
       "      <td>2</td>\n",
       "      <td>3523971475015</td>\n",
       "      <td>3524161749754</td>\n",
       "      <td>190274739</td>\n",
       "      <td>181296552</td>\n",
       "    </tr>\n",
       "    <tr>\n",
       "      <th>3</th>\n",
       "      <td>3</td>\n",
       "      <td>3523971475015</td>\n",
       "      <td>3524161749754</td>\n",
       "      <td>190274739</td>\n",
       "      <td>181296552</td>\n",
       "    </tr>\n",
       "    <tr>\n",
       "      <th>4</th>\n",
       "      <td>4</td>\n",
       "      <td>3523971475015</td>\n",
       "      <td>3524161749754</td>\n",
       "      <td>190274739</td>\n",
       "      <td>181296552</td>\n",
       "    </tr>\n",
       "    <tr>\n",
       "      <th>...</th>\n",
       "      <td>...</td>\n",
       "      <td>...</td>\n",
       "      <td>...</td>\n",
       "      <td>...</td>\n",
       "      <td>...</td>\n",
       "    </tr>\n",
       "    <tr>\n",
       "      <th>131067</th>\n",
       "      <td>131067</td>\n",
       "      <td>3529205931044</td>\n",
       "      <td>3529206796792</td>\n",
       "      <td>865748</td>\n",
       "      <td>162254</td>\n",
       "    </tr>\n",
       "    <tr>\n",
       "      <th>131068</th>\n",
       "      <td>131068</td>\n",
       "      <td>3529205931044</td>\n",
       "      <td>3529206796792</td>\n",
       "      <td>865748</td>\n",
       "      <td>162254</td>\n",
       "    </tr>\n",
       "    <tr>\n",
       "      <th>131069</th>\n",
       "      <td>131069</td>\n",
       "      <td>3529205931044</td>\n",
       "      <td>3529206796792</td>\n",
       "      <td>865748</td>\n",
       "      <td>162254</td>\n",
       "    </tr>\n",
       "    <tr>\n",
       "      <th>131070</th>\n",
       "      <td>131070</td>\n",
       "      <td>3529205931044</td>\n",
       "      <td>3529206796792</td>\n",
       "      <td>865748</td>\n",
       "      <td>162254</td>\n",
       "    </tr>\n",
       "    <tr>\n",
       "      <th>131071</th>\n",
       "      <td>131071</td>\n",
       "      <td>3529205931044</td>\n",
       "      <td>3529206796792</td>\n",
       "      <td>865748</td>\n",
       "      <td>162254</td>\n",
       "    </tr>\n",
       "  </tbody>\n",
       "</table>\n",
       "<p>131072 rows × 5 columns</p>\n",
       "</div>"
      ],
      "text/plain": [
       "        thread_id     start_time       end_time  clock_time  active_time\n",
       "0               0  3523971475015  3524161749754   190274739    181296552\n",
       "1               1  3523971475015  3524161749754   190274739    181296552\n",
       "2               2  3523971475015  3524161749754   190274739    181296552\n",
       "3               3  3523971475015  3524161749754   190274739    181296552\n",
       "4               4  3523971475015  3524161749754   190274739    181296552\n",
       "...           ...            ...            ...         ...          ...\n",
       "131067     131067  3529205931044  3529206796792      865748       162254\n",
       "131068     131068  3529205931044  3529206796792      865748       162254\n",
       "131069     131069  3529205931044  3529206796792      865748       162254\n",
       "131070     131070  3529205931044  3529206796792      865748       162254\n",
       "131071     131071  3529205931044  3529206796792      865748       162254\n",
       "\n",
       "[131072 rows x 5 columns]"
      ]
     },
     "execution_count": 2,
     "metadata": {},
     "output_type": "execute_result"
    }
   ],
   "source": [
    "warp_size = 32\n",
    "n_sm = 82\n",
    "thread_per_sm = 1536\n",
    "\n",
    "# blocks per grid x threas per block\n",
    "# filename = 'Cit-Patents_512x512'\n",
    "# filename = 'web-BerkStan_669x1024' \n",
    "# filename = 'web-BerkStan_128x128' \n",
    "# filename = 'web-BerkStan_256x1024'\n",
    "# filename = 'web-BerkStan_512x512'\n",
    "# filename = 'web-BerkStan_1024x1024' \n",
    "# filename = 'wiki-topcats_128x128'\n",
    "# filename = 'wiki-topcats_256x1024'\n",
    "# filename = 'wiki-topcats_512x512'\n",
    "# filename = 'wiki-topcats_1024x1024'\n",
    "# filename = 'com-orkut_64x1024'\n",
    "filename = 'com-orkut_128x1024'\n",
    "# filename = 'com-orkut_256x1024'\n",
    "# filename = 'com-friendster_256x1024'\n",
    "# filename = 'com-friendster_1024x1024'\n",
    "\n",
    "with open('./log_' +filename, 'r') as f:\n",
    "    runtime = float(f.readline().strip())\n",
    "\n",
    "df = pd.read_csv(f'log_{filename}',skiprows=1)\n",
    "df = df.iloc[::warp_size].reset_index(drop=True)\n",
    "\n",
    "starts = df['start_time']\n",
    "ends = df['end_time']\n",
    "clock_time = df['clock_time']\n",
    "active_time = df['active_time']\n",
    "print(runtime)\n",
    "df"
   ]
  },
  {
   "cell_type": "code",
   "execution_count": 3,
   "metadata": {},
   "outputs": [
    {
     "data": {
      "text/plain": [
       "count    131072.000000\n",
       "mean          0.252957\n",
       "std           0.293801\n",
       "min           0.001546\n",
       "25%           0.060845\n",
       "50%           0.068364\n",
       "75%           0.471517\n",
       "max           0.967433\n",
       "dtype: float64"
      ]
     },
     "execution_count": 3,
     "metadata": {},
     "output_type": "execute_result"
    }
   ],
   "source": [
    "((df['clock_time']-df['active_time'])/df['clock_time']).describe()"
   ]
  },
  {
   "cell_type": "code",
   "execution_count": 4,
   "metadata": {},
   "outputs": [
    {
     "data": {
      "text/plain": [
       "105438    0.967433\n",
       "105422    0.967433\n",
       "105408    0.967433\n",
       "105409    0.967433\n",
       "105410    0.967433\n",
       "            ...   \n",
       "97403     0.001546\n",
       "97404     0.001546\n",
       "97405     0.001546\n",
       "97406     0.001546\n",
       "97407     0.001546\n",
       "Length: 131072, dtype: float64"
      ]
     },
     "execution_count": 4,
     "metadata": {},
     "output_type": "execute_result"
    }
   ],
   "source": [
    "((df['clock_time']-df['active_time'])/df['clock_time']).sort_values(ascending=False)"
   ]
  },
  {
   "cell_type": "code",
   "execution_count": 5,
   "metadata": {},
   "outputs": [
    {
     "data": {
      "text/plain": [
       "111951        28706\n",
       "111965        28706\n",
       "111964        28706\n",
       "111963        28706\n",
       "111962        28706\n",
       "            ...    \n",
       "41987     181393965\n",
       "41986     181393965\n",
       "41985     181393965\n",
       "41998     181393965\n",
       "42015     181393965\n",
       "Name: active_time, Length: 131072, dtype: int64"
      ]
     },
     "execution_count": 5,
     "metadata": {},
     "output_type": "execute_result"
    }
   ],
   "source": [
    "df['active_time'].sort_values(ascending=True)"
   ]
  },
  {
   "cell_type": "code",
   "execution_count": 6,
   "metadata": {},
   "outputs": [
    {
     "data": {
      "image/png": "[encoded data removed]",
      "text/plain": [
       "<Figure size 640x480 with 1 Axes>"
      ]
     },
     "metadata": {},
     "output_type": "display_data"
    }
   ],
   "source": [
    "plt.bar(range(len(active_time)), active_time)\n",
    "\n",
    "plt.title(f\"{filename} Busy Map, runtime: {runtime}ms\")\n",
    "plt.xlabel(\"Warp ID\")\n",
    "plt.ylabel(\"Active time (cycles)\")\n",
    "plt.axvline(x=n_sm*thread_per_sm/warp_size, color='red', linestyle='--')\n",
    "plt.show()"
   ]
  },
  {
   "cell_type": "code",
   "execution_count": 7,
   "metadata": {},
   "outputs": [],
   "source": [
    "# fig, ax = plt.subplots(figsize=(30, 7))\n",
    "fig, ax = plt.subplots()\n",
    "\n",
    "# 對於DataFrame中的每一行，繪製一個表示thread活動的條形\n",
    "for index, (_, row) in enumerate(df.iterrows()):\n",
    "    ax.broken_barh([(index - 0.4, 0.8)], \n",
    "                   (row['start_time'], row['clock_time']), facecolors='blue')\n",
    "\n",
    "ax.set_ylabel('Cycles')\n",
    "ax.set_xlabel('Warp ID')\n",
    "ax.set_title(f'{filename} Warp Life Cycle, runtime: {runtime}ms')\n",
    "\n",
    "ax.axvline(x=n_sm*thread_per_sm/warp_size, color='red', linestyle='--')\n",
    "\n",
    "plt.show()"
   ]
  },
  {
   "cell_type": "code",
   "execution_count": null,
   "metadata": {},
   "outputs": [],
   "source": []
  },
  {
   "cell_type": "code",
   "execution_count": 9,
   "metadata": {},
   "outputs": [
    {
     "data": {
      "image/png": "[encoded data removed]",
      "text/plain": [
       "<Figure size 640x480 with 1 Axes>"
      ]
     },
     "metadata": {},
     "output_type": "display_data"
    }
   ],
   "source": [
    "import matplotlib.pyplot as plt\n",
    "import numpy as np\n",
    "\n",
    "# 数据集名称\n",
    "datasets = ['cit-Patents', 'web-Berkstand', 'com-orkuts', 'com-friendster']\n",
    "\n",
    "# Trust Preprocess 时间 (秒)\n",
    "preprocess_times = np.array([10, 1, 19, 608])  # 根据表格中的数据\n",
    "\n",
    "# Trust Kernel 时间 (秒)\n",
    "kernel_times = np.array([5e-3, 27e-3, 105e-3, 2.29])  # 转换为秒\n",
    "\n",
    "# 总时间\n",
    "total_times = preprocess_times + kernel_times\n",
    "\n",
    "# 计算百分比\n",
    "preprocess_percentage = (preprocess_times / total_times) * 100\n",
    "kernel_percentage = (kernel_times / total_times) * 100\n",
    "\n",
    "# 绘制堆叠条形图\n",
    "bar_width = 0.5\n",
    "r = np.arange(len(datasets))\n",
    "\n",
    "bars1 = plt.bar(r, preprocess_percentage, color='yellow', edgecolor='black', width=bar_width, label='Trust Preprocess')\n",
    "bars2 = plt.bar(r, kernel_percentage, bottom=preprocess_percentage, color='red', edgecolor='black', width=bar_width, label='Trust Kernel')\n",
    "\n",
    "# 在条形图上添加百分比标签\n",
    "def add_labels(bars):\n",
    "    for bar in bars:\n",
    "        height = bar.get_height()\n",
    "        plt.annotate(f'{height:.2f}%', \n",
    "                     xy=(bar.get_x() + bar.get_width() / 2, bar.get_y() + height / 2),\n",
    "                     xytext=(0, 3),  # 3 points vertical offset\n",
    "                     textcoords=\"offset points\",\n",
    "                     ha='center', va='bottom')\n",
    "\n",
    "add_labels(bars1)\n",
    "add_labels(bars2)\n",
    "\n",
    "# 添加标签和标题\n",
    "plt.xlabel('Dataset', fontweight='bold')\n",
    "plt.xticks(r, datasets)\n",
    "plt.ylabel('Percentage (%)')\n",
    "plt.title('Trust Preprocess vs Trust Kernel Time Percentage')\n",
    "\n",
    "# 创建图例\n",
    "plt.legend()\n",
    "\n",
    "# 显示图表\n",
    "plt.show()\n"
   ]
  },
  {
   "cell_type": "code",
   "execution_count": null,
   "metadata": {},
   "outputs": [],
   "source": []
  },
  {
   "cell_type": "code",
   "execution_count": null,
   "metadata": {},
   "outputs": [],
   "source": []
  }
 ],
 "metadata": {
  "kernelspec": {
   "display_name": "test",
   "language": "python",
   "name": "python3"
  },
  "language_info": {
   "codemirror_mode": {
    "name": "ipython",
    "version": 3
   },
   "file_extension": ".py",
   "mimetype": "text/x-python",
   "name": "python",
   "nbconvert_exporter": "python",
   "pygments_lexer": "ipython3",
   "version": "3.8.18"
  }
 },
 "nbformat": 4,
 "nbformat_minor": 2
}
